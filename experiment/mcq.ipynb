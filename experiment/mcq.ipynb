{
 "cells": [
  {
   "cell_type": "code",
   "execution_count": 62,
   "metadata": {},
   "outputs": [
    {
     "name": "stdout",
     "output_type": "stream",
     "text": [
      "Requirement already satisfied: langchain-google-genai in /Users/adityaalok/Desktop/MCQGenerator/env/lib/python3.10/site-packages (2.0.10)\n",
      "Requirement already satisfied: python-dotenv in /Users/adityaalok/Desktop/MCQGenerator/env/lib/python3.10/site-packages (1.1.1)\n",
      "Requirement already satisfied: pandas in /Users/adityaalok/Desktop/MCQGenerator/env/lib/python3.10/site-packages (2.3.3)\n",
      "Requirement already satisfied: filetype<2.0.0,>=1.2.0 in /Users/adityaalok/Desktop/MCQGenerator/env/lib/python3.10/site-packages (from langchain-google-genai) (1.2.0)\n",
      "Requirement already satisfied: google-generativeai<0.9.0,>=0.8.0 in /Users/adityaalok/Desktop/MCQGenerator/env/lib/python3.10/site-packages (from langchain-google-genai) (0.8.5)\n",
      "Requirement already satisfied: langchain-core<0.4.0,>=0.3.37 in /Users/adityaalok/Desktop/MCQGenerator/env/lib/python3.10/site-packages (from langchain-google-genai) (0.3.77)\n",
      "Requirement already satisfied: pydantic<3,>=2 in /Users/adityaalok/Desktop/MCQGenerator/env/lib/python3.10/site-packages (from langchain-google-genai) (2.11.9)\n",
      "Requirement already satisfied: google-ai-generativelanguage==0.6.15 in /Users/adityaalok/Desktop/MCQGenerator/env/lib/python3.10/site-packages (from google-generativeai<0.9.0,>=0.8.0->langchain-google-genai) (0.6.15)\n",
      "Requirement already satisfied: google-api-core in /Users/adityaalok/Desktop/MCQGenerator/env/lib/python3.10/site-packages (from google-generativeai<0.9.0,>=0.8.0->langchain-google-genai) (2.25.2)\n",
      "Requirement already satisfied: google-api-python-client in /Users/adityaalok/Desktop/MCQGenerator/env/lib/python3.10/site-packages (from google-generativeai<0.9.0,>=0.8.0->langchain-google-genai) (2.184.0)\n",
      "Requirement already satisfied: google-auth>=2.15.0 in /Users/adityaalok/Desktop/MCQGenerator/env/lib/python3.10/site-packages (from google-generativeai<0.9.0,>=0.8.0->langchain-google-genai) (2.41.1)\n",
      "Requirement already satisfied: protobuf in /Users/adityaalok/Desktop/MCQGenerator/env/lib/python3.10/site-packages (from google-generativeai<0.9.0,>=0.8.0->langchain-google-genai) (5.29.5)\n",
      "Requirement already satisfied: tqdm in /Users/adityaalok/Desktop/MCQGenerator/env/lib/python3.10/site-packages (from google-generativeai<0.9.0,>=0.8.0->langchain-google-genai) (4.67.1)\n",
      "Requirement already satisfied: typing-extensions in /Users/adityaalok/Desktop/MCQGenerator/env/lib/python3.10/site-packages (from google-generativeai<0.9.0,>=0.8.0->langchain-google-genai) (4.15.0)\n",
      "Requirement already satisfied: proto-plus<2.0.0dev,>=1.22.3 in /Users/adityaalok/Desktop/MCQGenerator/env/lib/python3.10/site-packages (from google-ai-generativelanguage==0.6.15->google-generativeai<0.9.0,>=0.8.0->langchain-google-genai) (1.26.1)\n",
      "Requirement already satisfied: googleapis-common-protos<2.0.0,>=1.56.2 in /Users/adityaalok/Desktop/MCQGenerator/env/lib/python3.10/site-packages (from google-api-core->google-generativeai<0.9.0,>=0.8.0->langchain-google-genai) (1.70.0)\n",
      "Requirement already satisfied: requests<3.0.0,>=2.18.0 in /Users/adityaalok/Desktop/MCQGenerator/env/lib/python3.10/site-packages (from google-api-core->google-generativeai<0.9.0,>=0.8.0->langchain-google-genai) (2.32.5)\n",
      "Requirement already satisfied: grpcio<2.0.0,>=1.33.2 in /Users/adityaalok/Desktop/MCQGenerator/env/lib/python3.10/site-packages (from google-api-core[grpc]!=2.0.*,!=2.1.*,!=2.10.*,!=2.2.*,!=2.3.*,!=2.4.*,!=2.5.*,!=2.6.*,!=2.7.*,!=2.8.*,!=2.9.*,<3.0.0dev,>=1.34.1->google-ai-generativelanguage==0.6.15->google-generativeai<0.9.0,>=0.8.0->langchain-google-genai) (1.75.1)\n",
      "Requirement already satisfied: grpcio-status<2.0.0,>=1.33.2 in /Users/adityaalok/Desktop/MCQGenerator/env/lib/python3.10/site-packages (from google-api-core[grpc]!=2.0.*,!=2.1.*,!=2.10.*,!=2.2.*,!=2.3.*,!=2.4.*,!=2.5.*,!=2.6.*,!=2.7.*,!=2.8.*,!=2.9.*,<3.0.0dev,>=1.34.1->google-ai-generativelanguage==0.6.15->google-generativeai<0.9.0,>=0.8.0->langchain-google-genai) (1.71.2)\n",
      "Requirement already satisfied: cachetools<7.0,>=2.0.0 in /Users/adityaalok/Desktop/MCQGenerator/env/lib/python3.10/site-packages (from google-auth>=2.15.0->google-generativeai<0.9.0,>=0.8.0->langchain-google-genai) (6.2.0)\n",
      "Requirement already satisfied: pyasn1-modules>=0.2.1 in /Users/adityaalok/Desktop/MCQGenerator/env/lib/python3.10/site-packages (from google-auth>=2.15.0->google-generativeai<0.9.0,>=0.8.0->langchain-google-genai) (0.4.2)\n",
      "Requirement already satisfied: rsa<5,>=3.1.4 in /Users/adityaalok/Desktop/MCQGenerator/env/lib/python3.10/site-packages (from google-auth>=2.15.0->google-generativeai<0.9.0,>=0.8.0->langchain-google-genai) (4.9.1)\n",
      "Requirement already satisfied: langsmith<1.0.0,>=0.3.45 in /Users/adityaalok/Desktop/MCQGenerator/env/lib/python3.10/site-packages (from langchain-core<0.4.0,>=0.3.37->langchain-google-genai) (0.4.32)\n",
      "Requirement already satisfied: tenacity!=8.4.0,<10.0.0,>=8.1.0 in /Users/adityaalok/Desktop/MCQGenerator/env/lib/python3.10/site-packages (from langchain-core<0.4.0,>=0.3.37->langchain-google-genai) (9.1.2)\n",
      "Requirement already satisfied: jsonpatch<2.0.0,>=1.33.0 in /Users/adityaalok/Desktop/MCQGenerator/env/lib/python3.10/site-packages (from langchain-core<0.4.0,>=0.3.37->langchain-google-genai) (1.33)\n",
      "Requirement already satisfied: PyYAML<7.0.0,>=5.3.0 in /Users/adityaalok/Desktop/MCQGenerator/env/lib/python3.10/site-packages (from langchain-core<0.4.0,>=0.3.37->langchain-google-genai) (6.0.3)\n",
      "Requirement already satisfied: packaging<26.0.0,>=23.2.0 in /Users/adityaalok/Desktop/MCQGenerator/env/lib/python3.10/site-packages (from langchain-core<0.4.0,>=0.3.37->langchain-google-genai) (25.0)\n",
      "Requirement already satisfied: jsonpointer>=1.9 in /Users/adityaalok/Desktop/MCQGenerator/env/lib/python3.10/site-packages (from jsonpatch<2.0.0,>=1.33.0->langchain-core<0.4.0,>=0.3.37->langchain-google-genai) (3.0.0)\n",
      "Requirement already satisfied: httpx<1,>=0.23.0 in /Users/adityaalok/Desktop/MCQGenerator/env/lib/python3.10/site-packages (from langsmith<1.0.0,>=0.3.45->langchain-core<0.4.0,>=0.3.37->langchain-google-genai) (0.28.1)\n",
      "Requirement already satisfied: orjson>=3.9.14 in /Users/adityaalok/Desktop/MCQGenerator/env/lib/python3.10/site-packages (from langsmith<1.0.0,>=0.3.45->langchain-core<0.4.0,>=0.3.37->langchain-google-genai) (3.11.3)\n",
      "Requirement already satisfied: requests-toolbelt>=1.0.0 in /Users/adityaalok/Desktop/MCQGenerator/env/lib/python3.10/site-packages (from langsmith<1.0.0,>=0.3.45->langchain-core<0.4.0,>=0.3.37->langchain-google-genai) (1.0.0)\n",
      "Requirement already satisfied: zstandard>=0.23.0 in /Users/adityaalok/Desktop/MCQGenerator/env/lib/python3.10/site-packages (from langsmith<1.0.0,>=0.3.45->langchain-core<0.4.0,>=0.3.37->langchain-google-genai) (0.25.0)\n",
      "Requirement already satisfied: anyio in /Users/adityaalok/Desktop/MCQGenerator/env/lib/python3.10/site-packages (from httpx<1,>=0.23.0->langsmith<1.0.0,>=0.3.45->langchain-core<0.4.0,>=0.3.37->langchain-google-genai) (4.11.0)\n",
      "Requirement already satisfied: certifi in /Users/adityaalok/Desktop/MCQGenerator/env/lib/python3.10/site-packages (from httpx<1,>=0.23.0->langsmith<1.0.0,>=0.3.45->langchain-core<0.4.0,>=0.3.37->langchain-google-genai) (2025.8.3)\n",
      "Requirement already satisfied: httpcore==1.* in /Users/adityaalok/Desktop/MCQGenerator/env/lib/python3.10/site-packages (from httpx<1,>=0.23.0->langsmith<1.0.0,>=0.3.45->langchain-core<0.4.0,>=0.3.37->langchain-google-genai) (1.0.9)\n",
      "Requirement already satisfied: idna in /Users/adityaalok/Desktop/MCQGenerator/env/lib/python3.10/site-packages (from httpx<1,>=0.23.0->langsmith<1.0.0,>=0.3.45->langchain-core<0.4.0,>=0.3.37->langchain-google-genai) (3.10)\n",
      "Requirement already satisfied: h11>=0.16 in /Users/adityaalok/Desktop/MCQGenerator/env/lib/python3.10/site-packages (from httpcore==1.*->httpx<1,>=0.23.0->langsmith<1.0.0,>=0.3.45->langchain-core<0.4.0,>=0.3.37->langchain-google-genai) (0.16.0)\n",
      "Requirement already satisfied: annotated-types>=0.6.0 in /Users/adityaalok/Desktop/MCQGenerator/env/lib/python3.10/site-packages (from pydantic<3,>=2->langchain-google-genai) (0.7.0)\n",
      "Requirement already satisfied: pydantic-core==2.33.2 in /Users/adityaalok/Desktop/MCQGenerator/env/lib/python3.10/site-packages (from pydantic<3,>=2->langchain-google-genai) (2.33.2)\n",
      "Requirement already satisfied: typing-inspection>=0.4.0 in /Users/adityaalok/Desktop/MCQGenerator/env/lib/python3.10/site-packages (from pydantic<3,>=2->langchain-google-genai) (0.4.2)\n",
      "Requirement already satisfied: charset_normalizer<4,>=2 in /Users/adityaalok/Desktop/MCQGenerator/env/lib/python3.10/site-packages (from requests<3.0.0,>=2.18.0->google-api-core->google-generativeai<0.9.0,>=0.8.0->langchain-google-genai) (3.4.3)\n",
      "Requirement already satisfied: urllib3<3,>=1.21.1 in /Users/adityaalok/Desktop/MCQGenerator/env/lib/python3.10/site-packages (from requests<3.0.0,>=2.18.0->google-api-core->google-generativeai<0.9.0,>=0.8.0->langchain-google-genai) (2.5.0)\n",
      "Requirement already satisfied: pyasn1>=0.1.3 in /Users/adityaalok/Desktop/MCQGenerator/env/lib/python3.10/site-packages (from rsa<5,>=3.1.4->google-auth>=2.15.0->google-generativeai<0.9.0,>=0.8.0->langchain-google-genai) (0.6.1)\n",
      "Requirement already satisfied: numpy>=1.22.4 in /Users/adityaalok/Desktop/MCQGenerator/env/lib/python3.10/site-packages (from pandas) (2.2.6)\n",
      "Requirement already satisfied: python-dateutil>=2.8.2 in /Users/adityaalok/Desktop/MCQGenerator/env/lib/python3.10/site-packages (from pandas) (2.9.0.post0)\n",
      "Requirement already satisfied: pytz>=2020.1 in /Users/adityaalok/Desktop/MCQGenerator/env/lib/python3.10/site-packages (from pandas) (2025.2)\n",
      "Requirement already satisfied: tzdata>=2022.7 in /Users/adityaalok/Desktop/MCQGenerator/env/lib/python3.10/site-packages (from pandas) (2025.2)\n",
      "Requirement already satisfied: six>=1.5 in /Users/adityaalok/Desktop/MCQGenerator/env/lib/python3.10/site-packages (from python-dateutil>=2.8.2->pandas) (1.17.0)\n",
      "Requirement already satisfied: exceptiongroup>=1.0.2 in /Users/adityaalok/Desktop/MCQGenerator/env/lib/python3.10/site-packages (from anyio->httpx<1,>=0.23.0->langsmith<1.0.0,>=0.3.45->langchain-core<0.4.0,>=0.3.37->langchain-google-genai) (1.2.0)\n",
      "Requirement already satisfied: sniffio>=1.1 in /Users/adityaalok/Desktop/MCQGenerator/env/lib/python3.10/site-packages (from anyio->httpx<1,>=0.23.0->langsmith<1.0.0,>=0.3.45->langchain-core<0.4.0,>=0.3.37->langchain-google-genai) (1.3.1)\n",
      "Requirement already satisfied: httplib2<1.0.0,>=0.19.0 in /Users/adityaalok/Desktop/MCQGenerator/env/lib/python3.10/site-packages (from google-api-python-client->google-generativeai<0.9.0,>=0.8.0->langchain-google-genai) (0.31.0)\n",
      "Requirement already satisfied: google-auth-httplib2<1.0.0,>=0.2.0 in /Users/adityaalok/Desktop/MCQGenerator/env/lib/python3.10/site-packages (from google-api-python-client->google-generativeai<0.9.0,>=0.8.0->langchain-google-genai) (0.2.0)\n",
      "Requirement already satisfied: uritemplate<5,>=3.0.1 in /Users/adityaalok/Desktop/MCQGenerator/env/lib/python3.10/site-packages (from google-api-python-client->google-generativeai<0.9.0,>=0.8.0->langchain-google-genai) (4.2.0)\n",
      "Requirement already satisfied: pyparsing<4,>=3.0.4 in /Users/adityaalok/Desktop/MCQGenerator/env/lib/python3.10/site-packages (from httplib2<1.0.0,>=0.19.0->google-api-python-client->google-generativeai<0.9.0,>=0.8.0->langchain-google-genai) (3.2.5)\n"
     ]
    }
   ],
   "source": [
    "!pip install langchain-google-genai python-dotenv pandas"
   ]
  },
  {
   "cell_type": "code",
   "execution_count": 63,
   "metadata": {},
   "outputs": [
    {
     "data": {
      "text/plain": [
       "True"
      ]
     },
     "execution_count": 63,
     "metadata": {},
     "output_type": "execute_result"
    }
   ],
   "source": [
    "import os\n",
    "import json\n",
    "import pandas as pd\n",
    "import traceback\n",
    "from dotenv import load_dotenv\n",
    "\n",
    "# Import necessary classes from langchain\n",
    "from langchain_google_genai import ChatGoogleGenerativeAI\n",
    "from langchain.prompts import PromptTemplate\n",
    "from langchain.chains import LLMChain\n",
    "from langchain.chains import SequentialChain\n",
    "\n",
    "# Load environment variables from the .env file\n",
    "load_dotenv()"
   ]
  },
  {
   "cell_type": "code",
   "execution_count": 64,
   "metadata": {},
   "outputs": [
    {
     "name": "stderr",
     "output_type": "stream",
     "text": [
      "E0000 00:00:1759486197.726599   89782 alts_credentials.cc:93] ALTS creds ignored. Not running on GCP and untrusted ALTS is not enabled.\n"
     ]
    }
   ],
   "source": [
    "# Get the Google API key from environment variables\n",
    "KEY = os.getenv(\"GOOGLE_API_KEY\")\n",
    "\n",
    "# Initialize the Gemini model (using latest available model)\n",
    "llm = ChatGoogleGenerativeAI(\n",
    "    google_api_key=KEY,\n",
    "    model=\"gemini-pro-latest\",  # Updated to use latest model\n",
    "    temperature=0.5\n",
    ")"
   ]
  },
  {
   "cell_type": "code",
   "execution_count": 65,
   "metadata": {},
   "outputs": [
    {
     "data": {
      "text/plain": [
       "ChatGoogleGenerativeAI(model='models/gemini-pro-latest', google_api_key=SecretStr('**********'), temperature=0.5, client=<google.ai.generativelanguage_v1beta.services.generative_service.client.GenerativeServiceClient object at 0x1144ad180>, default_metadata=())"
      ]
     },
     "execution_count": 65,
     "metadata": {},
     "output_type": "execute_result"
    }
   ],
   "source": [
    "llm"
   ]
  },
  {
   "cell_type": "code",
   "execution_count": 66,
   "metadata": {},
   "outputs": [],
   "source": [
    "# Define the desired JSON format for the quiz output.\n",
    "RESPONSE_JSON = {\n",
    "    \"1\": {\n",
    "        \"mcq\": \"multiple choice question\",\n",
    "        \"options\": {\n",
    "            \"a\": \"choice here\",\n",
    "            \"b\": \"choice here\",\n",
    "            \"c\": \"choice here\",\n",
    "            \"d\": \"choice here\",\n",
    "        },\n",
    "        \"correct\": \"correct answer\",\n",
    "    },\n",
    "    \"2\": {\n",
    "        \"mcq\": \"multiple choice question\",\n",
    "        \"options\": {\n",
    "            \"a\": \"choice here\",\n",
    "            \"b\": \"choice here\",\n",
    "            \"c\": \"choice here\",\n",
    "            \"d\": \"choice here\",\n",
    "        },\n",
    "        \"correct\": \"correct answer\",\n",
    "    },\n",
    "    \"3\": {\n",
    "        \"mcq\": \"multiple choice question\",\n",
    "        \"options\": {\n",
    "            \"a\": \"choice here\",\n",
    "            \"b\": \"choice here\",\n",
    "            \"c\": \"choice here\",\n",
    "            \"d\": \"choice here\",\n",
    "        },\n",
    "        \"correct\": \"correct answer\",\n",
    "    },\n",
    "}"
   ]
  },
  {
   "cell_type": "code",
   "execution_count": 67,
   "metadata": {},
   "outputs": [],
   "source": [
    "# Create the prompt template for quiz generation.\n",
    "TEMPLATE = \"\"\"\n",
    "Text:{text}\n",
    "You are an expert MCQ maker. Given the above text, it is your job to \\\n",
    "create a quiz  of {number} multiple choice questions for {subject} students in {tone} tone. \n",
    "Make sure the questions are not repeated and check all the questions to be conforming the text as well.\n",
    "Make sure to format your response like  RESPONSE_JSON below  and use it as a guide. \\\n",
    "Ensure to make {number} MCQs\n",
    "### RESPONSE_JSON\n",
    "{response_json}\n",
    "\"\"\""
   ]
  },
  {
   "cell_type": "code",
   "execution_count": 68,
   "metadata": {},
   "outputs": [],
   "source": [
    "quiz_generation_prompt = PromptTemplate(\n",
    "    input_variables=[\"text\", \"number\", \"subject\", \"tone\", \"response_json\"],\n",
    "    template=TEMPLATE\n",
    ")"
   ]
  },
  {
   "cell_type": "code",
   "execution_count": 69,
   "metadata": {},
   "outputs": [],
   "source": [
    "# Create the LLMChain for generating the quiz.\n",
    "quiz_chain = LLMChain(llm=llm, prompt=quiz_generation_prompt, output_key=\"quiz\", verbose=True)"
   ]
  },
  {
   "cell_type": "code",
   "execution_count": 70,
   "metadata": {},
   "outputs": [],
   "source": [
    "# Create the prompt template for evaluating the generated quiz.\n",
    "TEMPLATE2 = \"\"\"\n",
    "You are an expert english grammarian and writer. Given a Multiple Choice Quiz for {subject} students.\\\n",
    "You need to evaluate the complexity of the question and give a complete analysis of the quiz. Only use at max 50 words for complexity analysis. \n",
    "if the quiz is not at per with the cognitive and analytical abilities of the students,\\\n",
    "update the quiz questions which needs to be changed and change the tone such that it perfectly fits the student abilities\n",
    "Quiz_MCQs:\n",
    "{quiz}\n",
    "\n",
    "Check from an expert English Writer of the above quiz:\n",
    "\"\"\""
   ]
  },
  {
   "cell_type": "code",
   "execution_count": 71,
   "metadata": {},
   "outputs": [],
   "source": [
    "quiz_evaluation_prompt = PromptTemplate(input_variables=[\"subject\", \"quiz\"], template=TEMPLATE2)"
   ]
  },
  {
   "cell_type": "code",
   "execution_count": 72,
   "metadata": {},
   "outputs": [],
   "source": [
    "# Create the LLMChain for reviewing the quiz.\n",
    "review_chain = LLMChain(llm=llm, prompt=quiz_evaluation_prompt, output_key=\"review\", verbose=True)"
   ]
  },
  {
   "cell_type": "code",
   "execution_count": 73,
   "metadata": {},
   "outputs": [],
   "source": [
    "# Create the final SequentialChain that runs the quiz and review chains in order.\n",
    "generate_evaluate_chain = SequentialChain(\n",
    "    chains=[quiz_chain, review_chain],\n",
    "    input_variables=[\"text\", \"number\", \"subject\", \"tone\", \"response_json\"],\n",
    "    output_variables=[\"quiz\", \"review\"],\n",
    "    verbose=True\n",
    ")"
   ]
  },
  {
   "cell_type": "code",
   "execution_count": 74,
   "metadata": {},
   "outputs": [
    {
     "name": "stdout",
     "output_type": "stream",
     "text": [
      "\n",
      "\n",
      "\u001b[1m> Entering new SequentialChain chain...\u001b[0m\n",
      "\n",
      "\n",
      "\u001b[1m> Entering new LLMChain chain...\u001b[0m\n",
      "Prompt after formatting:\n",
      "\u001b[32;1m\u001b[1;3m\n",
      "Text:The term machine learning was coined in 1959 by Arthur Samuel, an IBM employee and pioneer in the field of computer gaming and artificial intelligence.[6][7] The synonym self-teaching computers was also used in this time period.[8][9]\n",
      "\n",
      "The earliest machine learning program was introduced in the 1950s when Arthur Samuel invented a computer program that calculated the winning chance in checkers for each side, but the history of machine learning roots back to decades of human desire and effort to study human cognitive processes.[10] In 1949, Canadian psychologist Donald Hebb published the book The Organization of Behavior, in which he introduced a theoretical neural structure formed by certain interactions among nerve cells.[11] Hebb's model of neurons interacting with one another set a groundwork for how AIs and machine learning algorithms work under nodes, or artificial neurons used by computers to communicate data.[10] Other researchers who have studied human cognitive systems contributed to the modern machine learning technologies as well, including logician Walter Pitts and Warren McCulloch, who proposed the early mathematical models of neural networks to come up with algorithms that mirror human thought processes.[10]\n",
      "\n",
      "By the early 1960s, an experimental \"learning machine\" with punched tape memory, called Cybertron, had been developed by Raytheon Company to analyse sonar signals, electrocardiograms, and speech patterns using rudimentary reinforcement learning. It was repetitively \"trained\" by a human operator/teacher to recognise patterns and equipped with a \"goof\" button to cause it to reevaluate incorrect decisions.[12] A representative book on research into machine learning during the 1960s was Nilsson's book on Learning Machines, dealing mostly with machine learning for pattern classification.[13] Interest related to pattern recognition continued into the 1970s, as described by Duda and Hart in 1973.[14] In 1981, a report was given on using teaching strategies so that an artificial neural network learns to recognise 40 characters (26 letters, 10 digits, and 4 special symbols) from a computer terminal.[15]\n",
      "\n",
      "Tom M. Mitchell provided a widely quoted, more formal definition of the algorithms studied in the machine learning field: \"A computer program is said to learn from experience E with respect to some class of tasks T and performance measure P if its performance at tasks in T, as measured by P, improves with experience E.\"[16] This definition of the tasks in which machine learning is concerned offers a fundamentally operational definition rather than defining the field in cognitive terms. This follows Alan Turing's proposal in his paper \"Computing Machinery and Intelligence\", in which the question \"Can machines think?\" is replaced with the question \"Can machines do what we (as thinking entities) can do?\".[17]\n",
      "\n",
      "Modern day Machine Learning algorithms are broken into 3 algorithms types: Supervised Learning Algorithms, Unsupervised Learning Algorithms, and Reinforcement Learning Algorithms.[18]\n",
      "\n",
      "Current Supervised Learning Algorithms have objectives of classification and regression.\n",
      "Current Unsupervised Learning Algorithms have objectives of clustering, dimensionality reduction, and association rule.\n",
      "Current Reinforcement Learning Algorithms focus on decisions that must be made with respect to some previous, unknown time and are broken down to either be studies of model based methods, and model free methods.\n",
      "As a scientific endeavour, machine learning grew out of the quest for artificial intelligence (AI). In the early days of AI as an academic discipline, some researchers were interested in having machines learn from data. They attempted to approach the problem with various symbolic methods, as well as what were then termed \"neural networks\"; these were mostly perceptrons and other models that were later found to be reinventions of the generalised linear models of statistics.[20] Probabilistic reasoning was also employed, especially in automated medical diagnosis.[21]: 488 \n",
      "\n",
      "However, an increasing emphasis on the logical, knowledge-based approach caused a rift between AI and machine learning. Probabilistic systems were plagued by theoretical and practical problems of data acquisition and representation.[21]: 488  By 1980, expert systems had come to dominate AI, and statistics was out of favour.[22] Work on symbolic/knowledge-based learning did continue within AI, leading to inductive logic programming(ILP), but the more statistical line of research was now outside the field of AI proper, in pattern recognition and information retrieval.[21]: 708–710, 755  Neural networks research had been abandoned by AI and computer science around the same time. This line, too, was continued outside the AI/CS field, as \"connectionism\", by researchers from other disciplines including John Hopfield, David Rumelhart, and Geoffrey Hinton. Their main success came in the mid-1980s with the reinvention of backpropagation.[21]: 25 \n",
      "\n",
      "Machine learning (ML), reorganised and recognised as its own field, started to flourish in the 1990s. The field changed its goal from achieving artificial intelligence to tackling solvable problems of a practical nature. It shifted focus away from the symbolic approaches it had inherited from AI, and toward methods and models borrowed from statistics, fuzzy logic, and probability theory\n",
      "You are an expert MCQ maker. Given the above text, it is your job to create a quiz  of 5 multiple choice questions for biology students in simple tone. \n",
      "Make sure the questions are not repeated and check all the questions to be conforming the text as well.\n",
      "Make sure to format your response like  RESPONSE_JSON below  and use it as a guide. Ensure to make 5 MCQs\n",
      "### RESPONSE_JSON\n",
      "{\"1\": {\"mcq\": \"multiple choice question\", \"options\": {\"a\": \"choice here\", \"b\": \"choice here\", \"c\": \"choice here\", \"d\": \"choice here\"}, \"correct\": \"correct answer\"}, \"2\": {\"mcq\": \"multiple choice question\", \"options\": {\"a\": \"choice here\", \"b\": \"choice here\", \"c\": \"choice here\", \"d\": \"choice here\"}, \"correct\": \"correct answer\"}, \"3\": {\"mcq\": \"multiple choice question\", \"options\": {\"a\": \"choice here\", \"b\": \"choice here\", \"c\": \"choice here\", \"d\": \"choice here\"}, \"correct\": \"correct answer\"}}\n",
      "\u001b[0m\n",
      "\n",
      "\u001b[1m> Finished chain.\u001b[0m\n",
      "\n",
      "\n",
      "\u001b[1m> Entering new LLMChain chain...\u001b[0m\n",
      "Prompt after formatting:\n",
      "\u001b[32;1m\u001b[1;3m\n",
      "You are an expert english grammarian and writer. Given a Multiple Choice Quiz for biology students.You need to evaluate the complexity of the question and give a complete analysis of the quiz. Only use at max 50 words for complexity analysis. \n",
      "if the quiz is not at per with the cognitive and analytical abilities of the students,update the quiz questions which needs to be changed and change the tone such that it perfectly fits the student abilities\n",
      "Quiz_MCQs:\n",
      "```json\n",
      "{\n",
      "  \"1\": {\n",
      "    \"mcq\": \"The early development of machine learning was inspired by human biology. According to the text, which psychologist introduced a theory about how interactions between nerve cells could form a basis for learning?\",\n",
      "    \"options\": {\n",
      "      \"a\": \"Arthur Samuel\",\n",
      "      \"b\": \"Walter Pitts\",\n",
      "      \"c\": \"Donald Hebb\",\n",
      "      \"d\": \"Tom M. Mitchell\"\n",
      "    },\n",
      "    \"correct\": \"c\"\n",
      "  },\n",
      "  \"2\": {\n",
      "    \"mcq\": \"An early 'learning machine' called Cybertron was developed in the 1960s. Which of the following biological patterns was it trained to analyze?\",\n",
      "    \"options\": {\n",
      "      \"a\": \"DNA sequences\",\n",
      "      \"b\": \"Electrocardiograms\",\n",
      "      \"c\": \"Cell division rates\",\n",
      "      \"d\": \"Brain wave patterns\"\n",
      "    },\n",
      "    \"correct\": \"b\"\n",
      "  },\n",
      "  \"3\": {\n",
      "    \"mcq\": \"According to the formal definition by Tom M. Mitchell, a computer program is said to learn if its performance at a task improves with what?\",\n",
      "    \"options\": {\n",
      "      \"a\": \"More complex algorithms\",\n",
      "      \"b\": \"Faster computer hardware\",\n",
      "      \"c\": \"Human guidance\",\n",
      "      \"d\": \"Experience\"\n",
      "    },\n",
      "    \"correct\": \"d\"\n",
      "  },\n",
      "  \"4\": {\n",
      "    \"mcq\": \"The text states that machine learning originally grew out of the quest for a broader field. What was that field?\",\n",
      "    \"options\": {\n",
      "      \"a\": \"Statistics\",\n",
      "      \"b\": \"Artificial intelligence (AI)\",\n",
      "      \"c\": \"Information retrieval\",\n",
      "      \"d\": \"Computer gaming\"\n",
      "    },\n",
      "    \"correct\": \"b\"\n",
      "  },\n",
      "  \"5\": {\n",
      "    \"mcq\": \"Modern machine learning is divided into three main algorithm types. Which of the following is NOT one of the three types mentioned in the text?\",\n",
      "    \"options\": {\n",
      "      \"a\": \"Supervised Learning\",\n",
      "      \"b\": \"Reinforcement Learning\",\n",
      "      \"c\": \"Symbolic Learning\",\n",
      "      \"d\": \"Unsupervised Learning\"\n",
      "    },\n",
      "    \"correct\": \"c\"\n",
      "  }\n",
      "}\n",
      "```\n",
      "\n",
      "Check from an expert English Writer of the above quiz:\n",
      "\u001b[0m\n",
      "\n",
      "\u001b[1m> Finished chain.\u001b[0m\n",
      "\n",
      "\u001b[1m> Finished chain.\u001b[0m\n",
      "Successfully received response from the chain.\n"
     ]
    }
   ],
   "source": [
    "import json\n",
    "import traceback\n",
    "\n",
    "# This part of your code creates and then reads the data from data.txt\n",
    "# For a real application, you would typically just have the reading part.\n",
    "try:\n",
    "    with open(\"data.txt\", 'r') as file:\n",
    "        TEXT = file.read()\n",
    "except FileNotFoundError:\n",
    "    print(\"Error: data.txt not found. Please make sure the file exists.\")\n",
    "    TEXT = None\n",
    "\n",
    "if TEXT:\n",
    "    # Define the input variables for the chain\n",
    "    NUMBER = 5 \n",
    "    SUBJECT = \"Machine Learning\"\n",
    "    TONE = \"simple\"\n",
    "\n",
    "    # This is the main execution step\n",
    "    try:\n",
    "        # The chain runs, and its entire output is stored in the 'response' variable\n",
    "        response = generate_evaluate_chain(\n",
    "            {\n",
    "                \"text\": TEXT,\n",
    "                \"number\": NUMBER,\n",
    "                \"subject\": SUBJECT,\n",
    "                \"tone\": TONE,\n",
    "                \"response_json\": json.dumps(RESPONSE_JSON)\n",
    "            }\n",
    "        )\n",
    "    except Exception as e:\n",
    "        print(\"An error occurred while running the chain.\")\n",
    "        traceback.print_exc()\n",
    "        response = None\n",
    "\n",
    "# After running, 'response' will be a dictionary containing the results\n",
    "if response:\n",
    "    print(\"Successfully received response from the chain.\")\n",
    "    # print(response)"
   ]
  },
  {
   "cell_type": "code",
   "execution_count": 75,
   "metadata": {},
   "outputs": [
    {
     "name": "stdout",
     "output_type": "stream",
     "text": [
      "```json\n",
      "{\n",
      "  \"1\": {\n",
      "    \"mcq\": \"The early development of machine learning was inspired by human biology. According to the text, which psychologist introduced a theory about how interactions between nerve cells could form a basis for learning?\",\n",
      "    \"options\": {\n",
      "      \"a\": \"Arthur Samuel\",\n",
      "      \"b\": \"Walter Pitts\",\n",
      "      \"c\": \"Donald Hebb\",\n",
      "      \"d\": \"Tom M. Mitchell\"\n",
      "    },\n",
      "    \"correct\": \"c\"\n",
      "  },\n",
      "  \"2\": {\n",
      "    \"mcq\": \"An early 'learning machine' called Cybertron was developed in the 1960s. Which of the following biological patterns was it trained to analyze?\",\n",
      "    \"options\": {\n",
      "      \"a\": \"DNA sequences\",\n",
      "      \"b\": \"Electrocardiograms\",\n",
      "      \"c\": \"Cell division rates\",\n",
      "      \"d\": \"Brain wave patterns\"\n",
      "    },\n",
      "    \"correct\": \"b\"\n",
      "  },\n",
      "  \"3\": {\n",
      "    \"mcq\": \"According to the formal definition by Tom M. Mitchell, a computer program is said to learn if its performance at a task improves with what?\",\n",
      "    \"options\": {\n",
      "      \"a\": \"More complex algorithms\",\n",
      "      \"b\": \"Faster computer hardware\",\n",
      "      \"c\": \"Human guidance\",\n",
      "      \"d\": \"Experience\"\n",
      "    },\n",
      "    \"correct\": \"d\"\n",
      "  },\n",
      "  \"4\": {\n",
      "    \"mcq\": \"The text states that machine learning originally grew out of the quest for a broader field. What was that field?\",\n",
      "    \"options\": {\n",
      "      \"a\": \"Statistics\",\n",
      "      \"b\": \"Artificial intelligence (AI)\",\n",
      "      \"c\": \"Information retrieval\",\n",
      "      \"d\": \"Computer gaming\"\n",
      "    },\n",
      "    \"correct\": \"b\"\n",
      "  },\n",
      "  \"5\": {\n",
      "    \"mcq\": \"Modern machine learning is divided into three main algorithm types. Which of the following is NOT one of the three types mentioned in the text?\",\n",
      "    \"options\": {\n",
      "      \"a\": \"Supervised Learning\",\n",
      "      \"b\": \"Reinforcement Learning\",\n",
      "      \"c\": \"Symbolic Learning\",\n",
      "      \"d\": \"Unsupervised Learning\"\n",
      "    },\n",
      "    \"correct\": \"c\"\n",
      "  }\n",
      "}\n",
      "```\n"
     ]
    }
   ],
   "source": [
    "if response:\n",
    "    # Use the .get() method to safely extract the quiz\n",
    "    quiz = response.get(\"quiz\")\n",
    "\n",
    "    # Now the 'quiz' variable holds the JSON string of your MCQs\n",
    "    print(quiz)"
   ]
  },
  {
   "cell_type": "code",
   "execution_count": 76,
   "metadata": {},
   "outputs": [
    {
     "name": "stdout",
     "output_type": "stream",
     "text": [
      "Type of quiz: <class 'str'>\n",
      "First 200 characters of quiz: ```json\n",
      "{\n",
      "  \"1\": {\n",
      "    \"mcq\": \"The early development of machine learning was inspired by human biology. According to the text, which psychologist introduced a theory about how interactions between ner\n",
      "❌ JSON parsing error: Expecting value: line 1 column 1 (char 0)\n",
      "✅ Successfully parsed cleaned JSON\n"
     ]
    }
   ],
   "source": [
    "# Debug: Check the type and content of quiz before parsing\n",
    "print(f\"Type of quiz: {type(quiz)}\")\n",
    "print(f\"First 200 characters of quiz: {str(quiz)[:200]}\")\n",
    "\n",
    "# Try to parse the JSON\n",
    "try:\n",
    "    if isinstance(quiz, str):\n",
    "        quiz = json.loads(quiz)\n",
    "        print(\"✅ Successfully parsed JSON\")\n",
    "    else:\n",
    "        print(\"Quiz is already a dictionary\")\n",
    "except json.JSONDecodeError as e:\n",
    "    print(f\"❌ JSON parsing error: {e}\")\n",
    "    # Try to clean the JSON string if it has markdown formatting\n",
    "    if quiz.startswith(\"```json\"):\n",
    "        # Remove markdown formatting\n",
    "        quiz = quiz.split(\"```json\")[1].split(\"```\")[0].strip()\n",
    "        quiz = json.loads(quiz)\n",
    "        print(\"✅ Successfully parsed cleaned JSON\")\n",
    "    else:\n",
    "        raise e"
   ]
  },
  {
   "cell_type": "code",
   "execution_count": 77,
   "metadata": {},
   "outputs": [],
   "source": [
    "quiz_table_data = []\n",
    "for key, value in quiz.items():\n",
    "    mcq = value[\"mcq\"]\n",
    "    options = \" | \".join(\n",
    "        [\n",
    "            f\"{option}: {option_value}\"\n",
    "            for option, option_value in value[\"options\"].items()\n",
    "            ]\n",
    "        )\n",
    "    correct = value[\"correct\"]\n",
    "    quiz_table_data.append({\"MCQ\": mcq, \"Choices\": options, \"Correct\": correct})"
   ]
  },
  {
   "cell_type": "code",
   "execution_count": 78,
   "metadata": {},
   "outputs": [
    {
     "name": "stdout",
     "output_type": "stream",
     "text": [
      "================================================================================\n",
      "GENERATED MCQ QUIZ\n",
      "================================================================================\n",
      "\n",
      "Question 1: The early development of machine learning was inspired by human biology. According to the text, which psychologist introduced a theory about how interactions between nerve cells could form a basis for learning?\n",
      "\n",
      "Options:\n",
      "    a) Arthur Samuel\n",
      "    b) Walter Pitts\n",
      "  ✓ c) Donald Hebb\n",
      "    d) Tom M. Mitchell\n",
      "\n",
      "Correct Answer: c\n",
      "------------------------------------------------------------\n",
      "\n",
      "Question 2: An early 'learning machine' called Cybertron was developed in the 1960s. Which of the following biological patterns was it trained to analyze?\n",
      "\n",
      "Options:\n",
      "    a) DNA sequences\n",
      "  ✓ b) Electrocardiograms\n",
      "    c) Cell division rates\n",
      "    d) Brain wave patterns\n",
      "\n",
      "Correct Answer: b\n",
      "------------------------------------------------------------\n",
      "\n",
      "Question 3: According to the formal definition by Tom M. Mitchell, a computer program is said to learn if its performance at a task improves with what?\n",
      "\n",
      "Options:\n",
      "    a) More complex algorithms\n",
      "    b) Faster computer hardware\n",
      "    c) Human guidance\n",
      "  ✓ d) Experience\n",
      "\n",
      "Correct Answer: d\n",
      "------------------------------------------------------------\n",
      "\n",
      "Question 4: The text states that machine learning originally grew out of the quest for a broader field. What was that field?\n",
      "\n",
      "Options:\n",
      "    a) Statistics\n",
      "  ✓ b) Artificial intelligence (AI)\n",
      "    c) Information retrieval\n",
      "    d) Computer gaming\n",
      "\n",
      "Correct Answer: b\n",
      "------------------------------------------------------------\n",
      "\n",
      "Question 5: Modern machine learning is divided into three main algorithm types. Which of the following is NOT one of the three types mentioned in the text?\n",
      "\n",
      "Options:\n",
      "    a) Supervised Learning\n",
      "    b) Reinforcement Learning\n",
      "  ✓ c) Symbolic Learning\n",
      "    d) Unsupervised Learning\n",
      "\n",
      "Correct Answer: c\n",
      "------------------------------------------------------------\n"
     ]
    }
   ],
   "source": [
    "# Display the quiz in a nice format\n",
    "print(\"=\"*80)\n",
    "print(\"GENERATED MCQ QUIZ\")\n",
    "print(\"=\"*80)\n",
    "\n",
    "for i, (key, value) in enumerate(quiz.items(), 1):\n",
    "    print(f\"\\nQuestion {i}: {value['mcq']}\")\n",
    "    print(\"\\nOptions:\")\n",
    "    for option, option_text in value['options'].items():\n",
    "        marker = \"✓\" if option == value['correct'] else \" \"\n",
    "        print(f\"  {marker} {option}) {option_text}\")\n",
    "    print(f\"\\nCorrect Answer: {value['correct']}\")\n",
    "    print(\"-\" * 60)\n"
   ]
  },
  {
   "cell_type": "code",
   "execution_count": 79,
   "metadata": {},
   "outputs": [
    {
     "name": "stdout",
     "output_type": "stream",
     "text": [
      "\n",
      "Quiz DataFrame:\n",
      "                                                                                                                                                                                                               MCQ                                                                                              Choices Correct\n",
      "The early development of machine learning was inspired by human biology. According to the text, which psychologist introduced a theory about how interactions between nerve cells could form a basis for learning?                             a: Arthur Samuel | b: Walter Pitts | c: Donald Hebb | d: Tom M. Mitchell       c\n",
      "                                                                    An early 'learning machine' called Cybertron was developed in the 1960s. Which of the following biological patterns was it trained to analyze?           a: DNA sequences | b: Electrocardiograms | c: Cell division rates | d: Brain wave patterns       b\n",
      "                                                                       According to the formal definition by Tom M. Mitchell, a computer program is said to learn if its performance at a task improves with what?         a: More complex algorithms | b: Faster computer hardware | c: Human guidance | d: Experience       d\n",
      "                                                                                                  The text states that machine learning originally grew out of the quest for a broader field. What was that field?      a: Statistics | b: Artificial intelligence (AI) | c: Information retrieval | d: Computer gaming       b\n",
      "                                                                   Modern machine learning is divided into three main algorithm types. Which of the following is NOT one of the three types mentioned in the text? a: Supervised Learning | b: Reinforcement Learning | c: Symbolic Learning | d: Unsupervised Learning       c\n",
      "\n",
      "✅ Quiz saved to 'generated_quiz.csv'\n"
     ]
    }
   ],
   "source": [
    "# Create a pandas DataFrame for better visualization\n",
    "quiz_df = pd.DataFrame(quiz_table_data)\n",
    "print(\"\\nQuiz DataFrame:\")\n",
    "print(quiz_df.to_string(index=False))\n",
    "\n",
    "# Also save to CSV\n",
    "quiz_df.to_csv(\"generated_quiz.csv\", index=False)\n",
    "print(f\"\\n✅ Quiz saved to 'generated_quiz.csv'\")\n"
   ]
  },
  {
   "cell_type": "code",
   "execution_count": 80,
   "metadata": {},
   "outputs": [
    {
     "data": {
      "text/plain": [
       "'10_03_2025_15_41_55'"
      ]
     },
     "execution_count": 80,
     "metadata": {},
     "output_type": "execute_result"
    }
   ],
   "source": [
    "from datetime import datetime\n",
    "datetime.now().strftime('%m_%d_%Y_%H_%M_%S')"
   ]
  }
 ],
 "metadata": {
  "kernelspec": {
   "display_name": "Python 3",
   "language": "python",
   "name": "python3"
  },
  "language_info": {
   "codemirror_mode": {
    "name": "ipython",
    "version": 3
   },
   "file_extension": ".py",
   "mimetype": "text/x-python",
   "name": "python",
   "nbconvert_exporter": "python",
   "pygments_lexer": "ipython3",
   "version": "3.10.18"
  }
 },
 "nbformat": 4,
 "nbformat_minor": 2
}
